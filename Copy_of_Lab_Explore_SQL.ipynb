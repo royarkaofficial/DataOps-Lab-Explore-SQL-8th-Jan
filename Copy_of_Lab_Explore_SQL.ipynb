{
  "nbformat": 4,
  "nbformat_minor": 0,
  "metadata": {
    "colab": {
      "provenance": [],
      "include_colab_link": true
    },
    "kernelspec": {
      "name": "python3",
      "display_name": "Python 3"
    },
    "language_info": {
      "name": "python"
    }
  },
  "cells": [
    {
      "cell_type": "markdown",
      "metadata": {
        "id": "view-in-github",
        "colab_type": "text"
      },
      "source": [
        "<a href=\"https://colab.research.google.com/github/royarkaofficial/DataOps-Lab-Explore-SQL-8th-Jan/blob/main/Copy_of_Lab_Explore_SQL.ipynb\" target=\"_parent\"><img src=\"https://colab.research.google.com/assets/colab-badge.svg\" alt=\"Open In Colab\"/></a>"
      ]
    },
    {
      "cell_type": "markdown",
      "source": [
        "Problem statment :\n",
        "Title : Demonstrating Python SQLite3 Integration for Database operations\n",
        "\n",
        "Objective :\n",
        "Design an implement a python program that will establishing a connection to SQLlite DB.\n",
        "a. Create the table\n",
        "b. Performs various SQL operations (INSERT , UPDATE , DELETE , ALTER , DROP)\n",
        "c. Display the results of each operation\n",
        "\n",
        "This program aims to serve lab exercise for students learning DB operations and its integration with Python\n",
        "\n",
        "Problem Description :\n",
        "Develop a python program that simulate basic STUDENT DB system for lab demo.\n",
        "The program must include 🇰\n",
        "\n",
        "Step 1 :Establish a connection with SQLite 3\n",
        "\n",
        "Step 2: Create a table named STUDENTS with following fields\n",
        "  id = Unique identifier (Primary key)\n",
        "  name = Student's name (Text , No null)\n",
        "  age = Student's age (Integer)\n",
        "  grade = Students's grade (Text)\n",
        "Step 3:\n",
        "1. Insert sample student data into table using the INSERT Command\n",
        "2. Query the table using the SELECT command to retrieve and display\n",
        "3. Update a student's grade using the UPDATE command\n",
        "4. Delete a student's record based on thier name using DELETE command\n",
        "5. Alter the table to add a new column (Email) using ALTER table command\n",
        "6. Drop the table using the DROP command\n",
        "7. Close the DB connections"
      ],
      "metadata": {
        "id": "7GLWdKKkSzGj"
      }
    },
    {
      "cell_type": "code",
      "execution_count": 1,
      "metadata": {
        "id": "-kq4Q8aISgWd"
      },
      "outputs": [],
      "source": [
        "import sqlite3"
      ]
    },
    {
      "cell_type": "code",
      "source": [
        "#Connect and to create a DB\n",
        "connection = sqlite3.connect('student.db')"
      ],
      "metadata": {
        "id": "uNjZ7j2eVF11"
      },
      "execution_count": 2,
      "outputs": []
    },
    {
      "cell_type": "code",
      "source": [
        "cursor = connection.cursor()"
      ],
      "metadata": {
        "id": "u92N__pAVXpb"
      },
      "execution_count": 3,
      "outputs": []
    },
    {
      "cell_type": "code",
      "source": [
        "#create a table\n",
        "q1 = \"\"\"\n",
        "CREATE TABLE IF NOT EXISTS students (\n",
        "    id INTEGER PRIMARY KEY,\n",
        "    name TEXT NOT NULL,\n",
        "    age INTEGER,\n",
        "    grade TEXT\n",
        ");\n",
        "\"\"\"\n",
        "cursor.execute(q1)\n",
        "print(\"Students tabel created\")"
      ],
      "metadata": {
        "colab": {
          "base_uri": "https://localhost:8080/"
        },
        "id": "RbWGIT0sVoK-",
        "outputId": "9ed747a1-f7b7-42b7-bec0-f288c814a710"
      },
      "execution_count": 4,
      "outputs": [
        {
          "output_type": "stream",
          "name": "stdout",
          "text": [
            "Students tabel created\n"
          ]
        }
      ]
    },
    {
      "cell_type": "code",
      "source": [
        "#Insert the values to the tabel\n",
        "data = [\n",
        "    [101 , \"Sahoo\" , 16 , \"C\"],\n",
        "    [102 , \"Mounika\" , 16 , \"B\"],\n",
        "    [103 , \"Babu\" , 16 , \"A\"],\n",
        "    [104 , \"Cheery\" , 16 , \"B+\"],\n",
        "]\n",
        "q2 = \"INSERT INTO students (id , name , age , grade) VALUES (?,?,?,?)\"\n",
        "cursor.executemany(q2 , data)\n",
        "print(\"Data inserted\")\n",
        "connection.commit()"
      ],
      "metadata": {
        "colab": {
          "base_uri": "https://localhost:8080/"
        },
        "id": "rdISPNoGWJ9q",
        "outputId": "c22e7fc8-a006-4358-840c-5883e30f857e"
      },
      "execution_count": 5,
      "outputs": [
        {
          "output_type": "stream",
          "name": "stdout",
          "text": [
            "Data inserted\n"
          ]
        }
      ]
    },
    {
      "cell_type": "code",
      "source": [
        "# Fetch and print the data\n",
        "q3 = \"SELECT * FROM students\"\n",
        "cursor.execute(q3)\n",
        "\n",
        "# Fetch all rows from the executed query\n",
        "rows = cursor.fetchall()\n",
        "\n",
        "# Print the data in a tabular format\n",
        "print(\"ID\\tName\\t\\tAge\\tGrade\")\n",
        "print(\"-\" * 40)\n",
        "for row in rows:\n",
        "    print(f\"{row[0]}\\t{row[1]}\\t\\t{row[2]}\\t{row[3]}\")\n",
        "\n",
        "# Commit the transaction (if not already committed)\n",
        "connection.commit()"
      ],
      "metadata": {
        "colab": {
          "base_uri": "https://localhost:8080/"
        },
        "id": "wUFDIBNmF9Om",
        "outputId": "aab7cb2e-76cf-4447-e689-6d022d983ef5"
      },
      "execution_count": 6,
      "outputs": [
        {
          "output_type": "stream",
          "name": "stdout",
          "text": [
            "ID\tName\t\tAge\tGrade\n",
            "----------------------------------------\n",
            "101\tSahoo\t\t16\tC\n",
            "102\tMounika\t\t16\tB\n",
            "103\tBabu\t\t16\tA\n",
            "104\tCheery\t\t16\tB+\n"
          ]
        }
      ]
    },
    {
      "cell_type": "code",
      "source": [
        "#Insert the values to the tabel\n",
        "data = [\n",
        "    [104 , \"Cheery\" , 16 , \"B+\"],\n",
        "]\n",
        "q2 = \"INSERT INTO students (id , name , age , grade) VALUES (?,?,?,?)\"\n",
        "cursor.executemany(q2 , data)\n",
        "\n",
        "print(\"Data inserted\")\n",
        "connection.commit()"
      ],
      "metadata": {
        "colab": {
          "base_uri": "https://localhost:8080/",
          "height": 211
        },
        "id": "UhWKgHo3ZSQe",
        "outputId": "1668c09a-9aed-44ee-eae3-730684cc551a"
      },
      "execution_count": 7,
      "outputs": [
        {
          "output_type": "error",
          "ename": "IntegrityError",
          "evalue": "UNIQUE constraint failed: students.id",
          "traceback": [
            "\u001b[0;31m---------------------------------------------------------------------------\u001b[0m",
            "\u001b[0;31mIntegrityError\u001b[0m                            Traceback (most recent call last)",
            "\u001b[0;32m<ipython-input-7-e130e25a67ba>\u001b[0m in \u001b[0;36m<cell line: 6>\u001b[0;34m()\u001b[0m\n\u001b[1;32m      4\u001b[0m ]\n\u001b[1;32m      5\u001b[0m \u001b[0mq2\u001b[0m \u001b[0;34m=\u001b[0m \u001b[0;34m\"INSERT INTO students (id , name , age , grade) VALUES (?,?,?,?)\"\u001b[0m\u001b[0;34m\u001b[0m\u001b[0;34m\u001b[0m\u001b[0m\n\u001b[0;32m----> 6\u001b[0;31m \u001b[0mcursor\u001b[0m\u001b[0;34m.\u001b[0m\u001b[0mexecutemany\u001b[0m\u001b[0;34m(\u001b[0m\u001b[0mq2\u001b[0m \u001b[0;34m,\u001b[0m \u001b[0mdata\u001b[0m\u001b[0;34m)\u001b[0m\u001b[0;34m\u001b[0m\u001b[0;34m\u001b[0m\u001b[0m\n\u001b[0m\u001b[1;32m      7\u001b[0m \u001b[0;34m\u001b[0m\u001b[0m\n\u001b[1;32m      8\u001b[0m \u001b[0mprint\u001b[0m\u001b[0;34m(\u001b[0m\u001b[0;34m\"Data inserted\"\u001b[0m\u001b[0;34m)\u001b[0m\u001b[0;34m\u001b[0m\u001b[0;34m\u001b[0m\u001b[0m\n",
            "\u001b[0;31mIntegrityError\u001b[0m: UNIQUE constraint failed: students.id"
          ]
        }
      ]
    },
    {
      "cell_type": "code",
      "source": [
        "data = [\n",
        "    [104, \"Cheery\", 16, \"B+\"],\n",
        "]\n",
        "\n",
        "for row in data:\n",
        "    q_check = \"SELECT COUNT(*) FROM students WHERE id = ?\"\n",
        "    cursor.execute(q_check, (row[0],))\n",
        "    if cursor.fetchone()[0] == 0:  # If ID does not exist\n",
        "        q2 = \"INSERT INTO students (id, name, age, grade) VALUES (?, ?, ?, ?)\"\n",
        "        cursor.execute(q2, row)\n",
        "        print(f\"Data inserted for ID {row[0]}\")\n",
        "    else:\n",
        "        print(f\"ID {row[0]} already exists. Skipping insertion.\")\n",
        "connection.commit()"
      ],
      "metadata": {
        "colab": {
          "base_uri": "https://localhost:8080/"
        },
        "id": "ti_TzZsDKdu9",
        "outputId": "dcd17aa6-b4f6-47d6-c615-dee948ac066e"
      },
      "execution_count": 8,
      "outputs": [
        {
          "output_type": "stream",
          "name": "stdout",
          "text": [
            "ID 104 already exists. Skipping insertion.\n"
          ]
        }
      ]
    },
    {
      "cell_type": "code",
      "source": [
        "data = [\n",
        "    [104, \"Cheery\", 16, \"B+\"],\n",
        "]\n",
        "\n",
        "q2 = \"INSERT OR REPLACE INTO students (id, name, age, grade) VALUES (?, ?, ?, ?)\"\n",
        "cursor.executemany(q2, data)\n",
        "\n",
        "print(\"Data inserted or replaced\")\n",
        "connection.commit()"
      ],
      "metadata": {
        "colab": {
          "base_uri": "https://localhost:8080/"
        },
        "id": "OCR3TfUAKk6e",
        "outputId": "c4faf514-9f58-43c3-b767-c0fa1f2c2c79"
      },
      "execution_count": 9,
      "outputs": [
        {
          "output_type": "stream",
          "name": "stdout",
          "text": [
            "Data inserted or replaced\n"
          ]
        }
      ]
    },
    {
      "cell_type": "code",
      "source": [
        "#Display all the data in the table\n",
        "q3 = \"SELECT * FROM students\"\n",
        "cursor.execute(q3)\n",
        "rows = cursor.fetchall()\n",
        "for row in rows:\n",
        "    print(row)"
      ],
      "metadata": {
        "colab": {
          "base_uri": "https://localhost:8080/"
        },
        "id": "UNjXjkb_Xf6N",
        "outputId": "8e5285bf-f864-4c63-9738-ed81842428b9"
      },
      "execution_count": 10,
      "outputs": [
        {
          "output_type": "stream",
          "name": "stdout",
          "text": [
            "(101, 'Sahoo', 16, 'C')\n",
            "(102, 'Mounika', 16, 'B')\n",
            "(103, 'Babu', 16, 'A')\n",
            "(104, 'Cheery', 16, 'B+')\n"
          ]
        }
      ]
    },
    {
      "cell_type": "code",
      "source": [
        "#Update a student's grade using UPDATE command\n",
        "q4 = \"UPDATE students SET grade = 'A' WHERE id = 101\"\n",
        "cursor.execute(q4)\n",
        "connection.commit()\n",
        "print(\"Grade updated\")"
      ],
      "metadata": {
        "colab": {
          "base_uri": "https://localhost:8080/"
        },
        "id": "m-sXsaeIXusp",
        "outputId": "fb9f5552-e61f-496b-edab-946d878aded0"
      },
      "execution_count": 11,
      "outputs": [
        {
          "output_type": "stream",
          "name": "stdout",
          "text": [
            "Grade updated\n"
          ]
        }
      ]
    },
    {
      "cell_type": "code",
      "source": [
        "#Display all the data in the table\n",
        "q3 = \"SELECT * FROM students\"\n",
        "cursor.execute(q3)\n",
        "rows = cursor.fetchall()\n",
        "for row in rows:\n",
        "    print(row)"
      ],
      "metadata": {
        "colab": {
          "base_uri": "https://localhost:8080/"
        },
        "id": "DzrrJLV1YXMQ",
        "outputId": "b7013102-768d-47dc-f5e3-422a9d00b7a2"
      },
      "execution_count": 12,
      "outputs": [
        {
          "output_type": "stream",
          "name": "stdout",
          "text": [
            "(101, 'Sahoo', 16, 'A')\n",
            "(102, 'Mounika', 16, 'B')\n",
            "(103, 'Babu', 16, 'A')\n",
            "(104, 'Cheery', 16, 'B+')\n"
          ]
        }
      ]
    },
    {
      "cell_type": "code",
      "source": [
        "#Delete a student's record based on thier name\n",
        "q5 = \"DELETE FROM students WHERE name = 'Cheery' \"\n",
        "cursor.execute(q5)\n",
        "connection.commit()\n",
        "print(\"Data is deleted\")"
      ],
      "metadata": {
        "colab": {
          "base_uri": "https://localhost:8080/"
        },
        "id": "5rZEln0DbDVL",
        "outputId": "ba502285-fe40-46af-cba2-9f303bd5620e"
      },
      "execution_count": 13,
      "outputs": [
        {
          "output_type": "stream",
          "name": "stdout",
          "text": [
            "Data is deleted\n"
          ]
        }
      ]
    },
    {
      "cell_type": "code",
      "source": [
        "#Display all the data in the table\n",
        "q3 = \"SELECT * FROM students\"\n",
        "cursor.execute(q3)\n",
        "rows = cursor.fetchall()\n",
        "for row in rows:\n",
        "    print(row)"
      ],
      "metadata": {
        "colab": {
          "base_uri": "https://localhost:8080/"
        },
        "id": "yIOKANk5Zjh7",
        "outputId": "f011d231-a97a-4305-e0aa-b0ec36a6746f"
      },
      "execution_count": 14,
      "outputs": [
        {
          "output_type": "stream",
          "name": "stdout",
          "text": [
            "(101, 'Sahoo', 16, 'A')\n",
            "(102, 'Mounika', 16, 'B')\n",
            "(103, 'Babu', 16, 'A')\n"
          ]
        }
      ]
    },
    {
      "cell_type": "code",
      "source": [
        "#Alter the table to add a new column \"Email\" using the ALTER command\n",
        "\n",
        "q6 = \"ALTER TABLE students ADD COLUMN email TEXT\"\n",
        "cursor.execute(q6)\n",
        "connection.commit()\n",
        "print(\"Email column added\")"
      ],
      "metadata": {
        "colab": {
          "base_uri": "https://localhost:8080/"
        },
        "id": "8vXxnHqmhjPS",
        "outputId": "92a6906d-6a0f-4189-e2c5-d5c3f77dbc4e"
      },
      "execution_count": 15,
      "outputs": [
        {
          "output_type": "stream",
          "name": "stdout",
          "text": [
            "Email column added\n"
          ]
        }
      ]
    },
    {
      "cell_type": "code",
      "source": [
        "#Display all the data in the table\n",
        "q3 = \"SELECT * FROM students\"\n",
        "cursor.execute(q3)\n",
        "rows = cursor.fetchall()\n",
        "for row in rows:\n",
        "    print(row)"
      ],
      "metadata": {
        "colab": {
          "base_uri": "https://localhost:8080/"
        },
        "id": "4HweUXfTh9ua",
        "outputId": "77ca408b-75d2-4516-aaac-694d738035b2"
      },
      "execution_count": 16,
      "outputs": [
        {
          "output_type": "stream",
          "name": "stdout",
          "text": [
            "(101, 'Sahoo', 16, 'A', None)\n",
            "(102, 'Mounika', 16, 'B', None)\n",
            "(103, 'Babu', 16, 'A', None)\n"
          ]
        }
      ]
    },
    {
      "cell_type": "code",
      "source": [
        "cursor.execute(\"UPDATE students SET email = 'sahoo@gmail.com' WHERE id = 101\")\n",
        "cursor.execute(\"UPDATE students SET email = 'mounika@gmail.com' WHERE id = 102\")\n",
        "cursor.execute(\"UPDATE students SET email = 'babu@gmail.com' WHERE id = 103\")"
      ],
      "metadata": {
        "colab": {
          "base_uri": "https://localhost:8080/"
        },
        "id": "YhENkn8kiF5Y",
        "outputId": "6aff174b-ec46-450b-90ec-b2827a495654"
      },
      "execution_count": 17,
      "outputs": [
        {
          "output_type": "execute_result",
          "data": {
            "text/plain": [
              "<sqlite3.Cursor at 0x792d31664e40>"
            ]
          },
          "metadata": {},
          "execution_count": 17
        }
      ]
    },
    {
      "cell_type": "code",
      "source": [
        "#Display all the data in the table\n",
        "q3 = \"SELECT * FROM students\"\n",
        "cursor.execute(q3)\n",
        "rows = cursor.fetchall()\n",
        "for row in rows:\n",
        "    print(row)"
      ],
      "metadata": {
        "colab": {
          "base_uri": "https://localhost:8080/"
        },
        "id": "SMMeMB5qif8r",
        "outputId": "e9331778-c3d0-4bef-9b70-95e6bbe62bd9"
      },
      "execution_count": 18,
      "outputs": [
        {
          "output_type": "stream",
          "name": "stdout",
          "text": [
            "(101, 'Sahoo', 16, 'A', 'sahoo@gmail.com')\n",
            "(102, 'Mounika', 16, 'B', 'mounika@gmail.com')\n",
            "(103, 'Babu', 16, 'A', 'babu@gmail.com')\n"
          ]
        }
      ]
    },
    {
      "cell_type": "code",
      "source": [
        "q7 = \"DROP TABLE students\"\n",
        "cursor.execute(q7)\n",
        "connection.commit()\n",
        "print(\"Table dropped\")"
      ],
      "metadata": {
        "colab": {
          "base_uri": "https://localhost:8080/"
        },
        "id": "JZIjbuseimfo",
        "outputId": "6f6a381a-be5c-421d-ace8-837938afbfa4"
      },
      "execution_count": 19,
      "outputs": [
        {
          "output_type": "stream",
          "name": "stdout",
          "text": [
            "Table dropped\n"
          ]
        }
      ]
    },
    {
      "cell_type": "code",
      "source": [
        "#Display all the data in the table\n",
        "q3 = \"SELECT * FROM students\"\n",
        "cursor.execute(q3)\n",
        "rows = cursor.fetchall()\n",
        "for row in rows:\n",
        "    print(row)"
      ],
      "metadata": {
        "colab": {
          "base_uri": "https://localhost:8080/",
          "height": 211
        },
        "id": "qfzJWog_iq1U",
        "outputId": "a1f9f4ca-8cf0-46fd-c1c5-880d14f5712c"
      },
      "execution_count": 20,
      "outputs": [
        {
          "output_type": "error",
          "ename": "OperationalError",
          "evalue": "no such table: students",
          "traceback": [
            "\u001b[0;31m---------------------------------------------------------------------------\u001b[0m",
            "\u001b[0;31mOperationalError\u001b[0m                          Traceback (most recent call last)",
            "\u001b[0;32m<ipython-input-20-353a0d8d1a39>\u001b[0m in \u001b[0;36m<cell line: 3>\u001b[0;34m()\u001b[0m\n\u001b[1;32m      1\u001b[0m \u001b[0;31m#Display all the data in the table\u001b[0m\u001b[0;34m\u001b[0m\u001b[0;34m\u001b[0m\u001b[0m\n\u001b[1;32m      2\u001b[0m \u001b[0mq3\u001b[0m \u001b[0;34m=\u001b[0m \u001b[0;34m\"SELECT * FROM students\"\u001b[0m\u001b[0;34m\u001b[0m\u001b[0;34m\u001b[0m\u001b[0m\n\u001b[0;32m----> 3\u001b[0;31m \u001b[0mcursor\u001b[0m\u001b[0;34m.\u001b[0m\u001b[0mexecute\u001b[0m\u001b[0;34m(\u001b[0m\u001b[0mq3\u001b[0m\u001b[0;34m)\u001b[0m\u001b[0;34m\u001b[0m\u001b[0;34m\u001b[0m\u001b[0m\n\u001b[0m\u001b[1;32m      4\u001b[0m \u001b[0mrows\u001b[0m \u001b[0;34m=\u001b[0m \u001b[0mcursor\u001b[0m\u001b[0;34m.\u001b[0m\u001b[0mfetchall\u001b[0m\u001b[0;34m(\u001b[0m\u001b[0;34m)\u001b[0m\u001b[0;34m\u001b[0m\u001b[0;34m\u001b[0m\u001b[0m\n\u001b[1;32m      5\u001b[0m \u001b[0;32mfor\u001b[0m \u001b[0mrow\u001b[0m \u001b[0;32min\u001b[0m \u001b[0mrows\u001b[0m\u001b[0;34m:\u001b[0m\u001b[0;34m\u001b[0m\u001b[0;34m\u001b[0m\u001b[0m\n",
            "\u001b[0;31mOperationalError\u001b[0m: no such table: students"
          ]
        }
      ]
    },
    {
      "cell_type": "code",
      "source": [
        "#close the connection\n",
        "connection.close()"
      ],
      "metadata": {
        "id": "j4dGpxfriz58"
      },
      "execution_count": 21,
      "outputs": []
    },
    {
      "cell_type": "markdown",
      "source": [
        "Checking the metadata of the DB"
      ],
      "metadata": {
        "id": "yGRJGToXi8MN"
      }
    },
    {
      "cell_type": "code",
      "source": [
        "#create and connect to DB\n",
        "connection = sqlite3.connect('student.db')\n",
        "\n",
        "cursor = connection.cursor()\n",
        "\n",
        "#create a table\n",
        "#create a table\n",
        "q1 = \"\"\"\n",
        "CREATE TABLE IF NOT EXISTS students (\n",
        "    id INTEGER PRIMARY KEY,\n",
        "    name TEXT NOT NULL,\n",
        "    age INTEGER,\n",
        "    grade TEXT\n",
        ");\n",
        "\"\"\"\n",
        "cursor.execute(q1)\n",
        "print(\"Students tabel created\")\n",
        "\n",
        "#Insert the values to the tabel\n",
        "data = [\n",
        "    [101 , \"Sahoo\" , 16 , \"C\"],\n",
        "    [102 , \"Mounika\" , 16 , \"B\"],\n",
        "    [103 , \"Babu\" , 16 , \"A\"],\n",
        "    [104 , \"Cheery\" , 16 , \"B+\"],\n",
        "]\n",
        "q2 = \"INSERT INTO students (id , name , age , grade) VALUES (?,?,?,?)\"\n",
        "cursor.executemany(q2 , data)\n",
        "\n",
        "print(\"Data inserted\")\n",
        "connection.commit()"
      ],
      "metadata": {
        "colab": {
          "base_uri": "https://localhost:8080/"
        },
        "id": "nG4mlVS6i_ce",
        "outputId": "f4734400-5af2-4370-d202-9c3778d50373"
      },
      "execution_count": 22,
      "outputs": [
        {
          "output_type": "stream",
          "name": "stdout",
          "text": [
            "Students tabel created\n",
            "Data inserted\n"
          ]
        }
      ]
    },
    {
      "cell_type": "code",
      "source": [
        "#Display all the data in the table\n",
        "q3 = \"SELECT * FROM students\"\n",
        "cursor.execute(q3)\n",
        "rows = cursor.fetchall()\n",
        "for row in rows:\n",
        "    print(row)"
      ],
      "metadata": {
        "colab": {
          "base_uri": "https://localhost:8080/"
        },
        "id": "pVnbWu8tjhgc",
        "outputId": "226738e5-d13e-464b-a566-69da59a583e5"
      },
      "execution_count": 23,
      "outputs": [
        {
          "output_type": "stream",
          "name": "stdout",
          "text": [
            "(101, 'Sahoo', 16, 'C')\n",
            "(102, 'Mounika', 16, 'B')\n",
            "(103, 'Babu', 16, 'A')\n",
            "(104, 'Cheery', 16, 'B+')\n"
          ]
        }
      ]
    },
    {
      "cell_type": "code",
      "source": [
        "q8 = \"SELECT name FROM sqlite_master WHERE type = 'table'\"\n",
        "cursor.execute(q8)\n",
        "tables = cursor.fetchall()\n",
        "for table in tables:\n",
        "    print(table[0])"
      ],
      "metadata": {
        "colab": {
          "base_uri": "https://localhost:8080/"
        },
        "id": "ddzE5gqdjow4",
        "outputId": "9547a87f-2cf6-459f-a004-39e567de8d96"
      },
      "execution_count": 24,
      "outputs": [
        {
          "output_type": "stream",
          "name": "stdout",
          "text": [
            "students\n"
          ]
        }
      ]
    },
    {
      "cell_type": "code",
      "source": [
        "#Extract information about the students table\n",
        "q9 = \"PRAGMA table_info(students)\" #Retrieving the metadata\n",
        "cursor.execute(q9)\n",
        "data = cursor.fetchall()\n",
        "for row in data:\n",
        "    print(row)\n",
        "\n",
        "#ColumnID , Column name , Data type , NotNULL , Default_Values , Primary key"
      ],
      "metadata": {
        "colab": {
          "base_uri": "https://localhost:8080/"
        },
        "id": "NI3CxY4vj0N9",
        "outputId": "c557059b-8158-444b-f63d-50d5203b8025"
      },
      "execution_count": 25,
      "outputs": [
        {
          "output_type": "stream",
          "name": "stdout",
          "text": [
            "(0, 'id', 'INTEGER', 0, None, 1)\n",
            "(1, 'name', 'TEXT', 1, None, 0)\n",
            "(2, 'age', 'INTEGER', 0, None, 0)\n",
            "(3, 'grade', 'TEXT', 0, None, 0)\n"
          ]
        }
      ]
    },
    {
      "cell_type": "markdown",
      "source": [
        "Join the table\n",
        "Combine the data from multiples tables based on related between them\n",
        "a. INNER JOIN\n",
        "b. LEFT JOIN\n",
        "c. RIGHT JOIN\n",
        "d. FULL JOIN"
      ],
      "metadata": {
        "id": "dFaE2loLpghs"
      }
    },
    {
      "cell_type": "code",
      "source": [
        "#Create a table 2\n",
        "cursor.execute(\"DROP TABLE IF EXISTS courses;\") # Added drop table to ensure the table is recreated each time\n",
        "cursor.execute('''\n",
        "CREATE TABLE IF NOT EXISTS courses (\n",
        "    id INTEGER PRIMARY KEY,\n",
        "    subject TEXT,\n",
        "    marks INTEGER\n",
        ")\n",
        "''')\n",
        "\n",
        "print(\"Courses tabel created\")\n",
        "\n",
        "#Insert the values to the tabel\n",
        "cursor.executemany('''\n",
        "    INSERT INTO courses (id , subject , marks) VALUES (?,?,?)\n",
        "    ''',[\n",
        "         [101 , \"Science\" , 25],\n",
        "         [102 , \"Maths\" , 56],\n",
        "         [103 , \"Social\" , 98 ],\n",
        "         [104 , \"English\" , 54]\n",
        "    ])"
      ],
      "metadata": {
        "colab": {
          "base_uri": "https://localhost:8080/"
        },
        "id": "_LMjwSx3pfhO",
        "outputId": "a9c55ce0-b190-4f01-9473-c58b21fdaa56"
      },
      "execution_count": 28,
      "outputs": [
        {
          "output_type": "stream",
          "name": "stdout",
          "text": [
            "Courses tabel created\n"
          ]
        },
        {
          "output_type": "execute_result",
          "data": {
            "text/plain": [
              "<sqlite3.Cursor at 0x792d318222c0>"
            ]
          },
          "metadata": {},
          "execution_count": 28
        }
      ]
    },
    {
      "cell_type": "code",
      "source": [
        "#Perform the join operation\n",
        "cursor.execute('''\n",
        "    SELECT students.id , students.name , students.age, students.grade, courses.subject , courses.marks\n",
        "    FROM students\n",
        "    JOIN courses ON students.id = courses.id\n",
        "''')\n",
        "\n",
        "#Fetch and print all the results\n",
        "joined_data = cursor.fetchall()\n",
        "print(\"Joined Table\")\n",
        "for row in joined_data:\n",
        "  print(row)\n",
        "\n",
        "#close the connectiosn\n",
        "connection.commit()\n",
        "connection.close()"
      ],
      "metadata": {
        "colab": {
          "base_uri": "https://localhost:8080/"
        },
        "id": "5mxfV363swp7",
        "outputId": "de10c096-9b45-4f55-8321-0fe7bc9d6bd7"
      },
      "execution_count": 29,
      "outputs": [
        {
          "output_type": "stream",
          "name": "stdout",
          "text": [
            "Joined Table\n",
            "(101, 'Sahoo', 16, 'C', 'Science', 25)\n",
            "(102, 'Mounika', 16, 'B', 'Maths', 56)\n",
            "(103, 'Babu', 16, 'A', 'Social', 98)\n",
            "(104, 'Cheery', 16, 'B+', 'English', 54)\n"
          ]
        }
      ]
    },
    {
      "cell_type": "code",
      "source": [],
      "metadata": {
        "id": "R6nY89QYMCW8"
      },
      "execution_count": null,
      "outputs": []
    }
  ]
}